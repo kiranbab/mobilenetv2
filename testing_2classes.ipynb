{
 "cells": [
  {
   "cell_type": "code",
   "execution_count": 1,
   "metadata": {},
   "outputs": [
    {
     "name": "stderr",
     "output_type": "stream",
     "text": [
      "Using TensorFlow backend.\n"
     ]
    }
   ],
   "source": [
    "\n",
    "\n",
    "import os\n",
    "import cv2\n",
    "import numpy as np\n",
    "from sklearn.preprocessing import LabelEncoder\n",
    "from keras.utils.np_utils import to_categorical\n",
    "from sklearn.metrics import confusion_matrix,precision_score,classification_report,recall_score, f1_score,accuracy_score\n",
    "from keras.models import load_model\n",
    "import pandas as pd\n"
   ]
  },
  {
   "cell_type": "code",
   "execution_count": 54,
   "metadata": {
    "collapsed": true
   },
   "outputs": [],
   "source": [
    "images=[]\n",
    "labels=[]\n",
    "folded='Test'\n",
    "for foldername in os.listdir(folded):\n",
    "    if (foldername=='Fake'):\n",
    "        for labelsmain in os.listdir(os.path.join(folded,foldername)):  \n",
    "            for imagesmain in os.listdir(os.path.join(folded,foldername,labelsmain)):\n",
    "                if(imagesmain.endswith('.png')):\n",
    "                    img = cv2.imread(os.path.join(folded,foldername,labelsmain,imagesmain))\n",
    "                    img = cv2.resize(img,(224,224))\n",
    "                    if img is not None:\n",
    "                        images.append(img)\n",
    "                        labels.append(os.path.splitext(foldername[0])[0])\n",
    "                \n",
    "    if (foldername=='Live'):\n",
    "        for imagesmain in os.listdir(os.path.join(folded,foldername)):   \n",
    "            if(imagesmain.endswith('.png')):\n",
    "                img = cv2.imread(os.path.join(folded,foldername,imagesmain))\n",
    "                img = cv2.resize(img,(224,224))\n",
    "                if img is not None:\n",
    "                    images.append(img)\n",
    "                    labels.append(os.path.splitext(foldername[0])[0])\n",
    "               \n",
    "images=np.array(images)\n",
    "labels=np.array(labels)\n"
   ]
  },
  {
   "cell_type": "code",
   "execution_count": 2,
   "metadata": {
    "collapsed": true
   },
   "outputs": [],
   "source": [
    "images=[]\n",
    "labels=[]\n",
    "folded='test_1000'\n",
    "for foldername in os.listdir(folded):\n",
    "    if (foldername=='Fake'):\n",
    "        for labelsmain in os.listdir(os.path.join(folded,foldername)):  \n",
    "            for imagesmain in os.listdir(os.path.join(folded,foldername,labelsmain)):\n",
    "                if(imagesmain.endswith('.png')):\n",
    "                    img = cv2.imread(os.path.join(folded,foldername,labelsmain,imagesmain))\n",
    "                    img = cv2.resize(img,(224,224))\n",
    "                    if img is not None:\n",
    "                        images.append(img)\n",
    "                        labels.append(os.path.splitext(foldername[0])[0])\n",
    "                \n",
    "    if (foldername=='Live'):\n",
    "        for imagesmain in os.listdir(os.path.join(folded,foldername)):   \n",
    "            if(imagesmain.endswith('.png')):\n",
    "                img = cv2.imread(os.path.join(folded,foldername,imagesmain))\n",
    "                img = cv2.resize(img,(224,224))\n",
    "                if img is not None:\n",
    "                    images.append(img)\n",
    "                    labels.append(os.path.splitext(foldername[0])[0])\n",
    "               \n",
    "images=np.array(images)\n",
    "labels=np.array(labels)\n"
   ]
  },
  {
   "cell_type": "code",
   "execution_count": 3,
   "metadata": {},
   "outputs": [
    {
     "data": {
      "text/plain": [
       "(1000, 224, 224, 3)"
      ]
     },
     "execution_count": 3,
     "metadata": {},
     "output_type": "execute_result"
    }
   ],
   "source": [
    "images.shape"
   ]
  },
  {
   "cell_type": "code",
   "execution_count": 10,
   "metadata": {
    "collapsed": true
   },
   "outputs": [],
   "source": [
    "images=[]\n",
    "labels=[]\n",
    "folded='Train/test'\n",
    "for foldername in os.listdir(folded):\n",
    "     for folders in os.listdir(os.path.join(folded,foldername)):\n",
    "        if (folders=='Fake'):\n",
    "            for labelsmain in os.listdir(os.path.join(folded,foldername,folders)):\n",
    "                for imagesmain in os.listdir(os.path.join(folded,foldername,folders,labelsmain)):\n",
    "                    if(imagesmain.endswith('.bmp')):\n",
    "                        img = cv2.imread(os.path.join(folded,foldername,folders,labelsmain,imagesmain))\n",
    "                        img = cv2.resize(img,(224,224))\n",
    "                        if img is not None:\n",
    "                            images.append(img)\n",
    "                            labels.append(os.path.splitext(folders[0])[0])\n",
    "        if (folders=='Live'):\n",
    "            for labelsmain in os.listdir(os.path.join(folded,foldername,folders)):\n",
    "                for imagesmain in os.listdir(os.path.join(folded,foldername,folders,labelsmain)):\n",
    "                    if(imagesmain.endswith('.bmp')):\n",
    "                        img = cv2.imread(os.path.join(folded,foldername,folders,labelsmain,imagesmain))\n",
    "                        img = cv2.resize(img,(224,224))\n",
    "                        if img is not None:\n",
    "                            images.append(img)\n",
    "                            labels.append(os.path.splitext(folders[0])[0])\n",
    "images=np.array(images)\n",
    "labels=np.array(labels)\n",
    "\n"
   ]
  },
  {
   "cell_type": "code",
   "execution_count": 11,
   "metadata": {
    "collapsed": true
   },
   "outputs": [],
   "source": [
    "x_test=images\n",
    "y_test=labels"
   ]
  },
  {
   "cell_type": "code",
   "execution_count": 12,
   "metadata": {},
   "outputs": [
    {
     "data": {
      "text/plain": [
       "(440,)"
      ]
     },
     "execution_count": 12,
     "metadata": {},
     "output_type": "execute_result"
    }
   ],
   "source": [
    "labels.shape"
   ]
  },
  {
   "cell_type": "code",
   "execution_count": 13,
   "metadata": {
    "collapsed": true
   },
   "outputs": [],
   "source": [
    "y_test1=LabelEncoder().fit_transform(y_test)\n",
    "y_testcat=to_categorical(y_test1,2)"
   ]
  },
  {
   "cell_type": "code",
   "execution_count": 7,
   "metadata": {
    "collapsed": true
   },
   "outputs": [],
   "source": [
    "    loadedmodel=load_model('inception_result-27-0.97.hdf5')"
   ]
  },
  {
   "cell_type": "code",
   "execution_count": 14,
   "metadata": {},
   "outputs": [
    {
     "name": "stdout",
     "output_type": "stream",
     "text": [
      "440/440 [==============================] - 116s 264ms/step\n"
     ]
    }
   ],
   "source": [
    "loss,accuracy=loadedmodel.evaluate(x_test,y_testcat)"
   ]
  },
  {
   "cell_type": "code",
   "execution_count": 15,
   "metadata": {},
   "outputs": [
    {
     "name": "stdout",
     "output_type": "stream",
     "text": [
      "Loss : 0.04, Accuracy : 98.64%\n"
     ]
    }
   ],
   "source": [
    "print(\"Loss : %.2f, Accuracy : %.2f%%\"%(loss,accuracy*100))"
   ]
  },
  {
   "cell_type": "code",
   "execution_count": null,
   "metadata": {
    "collapsed": true
   },
   "outputs": [],
   "source": []
  }
 ],
 "metadata": {
  "kernelspec": {
   "display_name": "Python 3",
   "language": "python",
   "name": "python3"
  },
  "language_info": {
   "codemirror_mode": {
    "name": "ipython",
    "version": 3
   },
   "file_extension": ".py",
   "mimetype": "text/x-python",
   "name": "python",
   "nbconvert_exporter": "python",
   "pygments_lexer": "ipython3",
   "version": "3.6.8"
  }
 },
 "nbformat": 4,
 "nbformat_minor": 1
}
